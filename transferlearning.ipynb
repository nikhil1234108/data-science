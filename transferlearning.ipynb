{
  "nbformat": 4,
  "nbformat_minor": 0,
  "metadata": {
    "colab": {
      "provenance": [],
      "authorship_tag": "ABX9TyMBYLZUOEroK8l9ed8Xficc",
      "include_colab_link": true
    },
    "kernelspec": {
      "name": "python3",
      "display_name": "Python 3"
    },
    "language_info": {
      "name": "python"
    }
  },
  "cells": [
    {
      "cell_type": "markdown",
      "metadata": {
        "id": "view-in-github",
        "colab_type": "text"
      },
      "source": [
        "<a href=\"https://colab.research.google.com/github/nikhil1234108/data-science/blob/main/transferlearning.ipynb\" target=\"_parent\"><img src=\"https://colab.research.google.com/assets/colab-badge.svg\" alt=\"Open In Colab\"/></a>"
      ]
    },
    {
      "cell_type": "markdown",
      "source": [
        "importing necessary librarys"
      ],
      "metadata": {
        "id": "DvmTsd9Nqgb4"
      }
    },
    {
      "cell_type": "code",
      "source": [
        "import numpy as np\n",
        "import matplotlib.pyplot as plt\n",
        "import pandas as pd\n",
        "import tensorflow as tf\n",
        "from tensorflow.keras import layers, models\n",
        "from tensorflow.keras.models import Sequential\n",
        "from tensorflow.keras.layers import Dense, Dropout, Flatten, Conv2D, GlobalMaxPooling2D, MaxPooling2D, BatchNormalization, Activation, Flatten, Input\n",
        "\n"
      ],
      "metadata": {
        "id": "4nzHwylQifbL"
      },
      "execution_count": 69,
      "outputs": []
    },
    {
      "cell_type": "markdown",
      "source": [
        "importing target dataset"
      ],
      "metadata": {
        "id": "rc8AlEEPqmJz"
      }
    },
    {
      "cell_type": "code",
      "source": [
        "from tensorflow.keras.datasets import mnist\n",
        "from tensorflow.keras.utils import to_categorical"
      ],
      "metadata": {
        "id": "MEooCd94-S4f"
      },
      "execution_count": 70,
      "outputs": []
    },
    {
      "cell_type": "markdown",
      "source": [
        "preproccssing"
      ],
      "metadata": {
        "id": "GXMwIMziqw-2"
      }
    },
    {
      "cell_type": "code",
      "source": [
        "(x_train, y_train), (x_test, y_test) = mnist.load_data()\n"
      ],
      "metadata": {
        "id": "_0vMO8lg-xhs"
      },
      "execution_count": 71,
      "outputs": []
    },
    {
      "cell_type": "code",
      "source": [
        "print(x_train.shape)\n",
        "print(x_test.shape)\n",
        "print(y_train.shape)\n",
        "print(y_test.shape)"
      ],
      "metadata": {
        "colab": {
          "base_uri": "https://localhost:8080/",
          "height": 0
        },
        "id": "qyYsp9mM_RFh",
        "outputId": "bdf85fe5-0c29-4a4e-c3a0-8ce428c5a6d5"
      },
      "execution_count": 72,
      "outputs": [
        {
          "output_type": "stream",
          "name": "stdout",
          "text": [
            "(60000, 28, 28)\n",
            "(10000, 28, 28)\n",
            "(60000,)\n",
            "(10000,)\n"
          ]
        }
      ]
    },
    {
      "cell_type": "code",
      "source": [
        "x_train=x_train.astype('float32')/255\n",
        "x_test=x_test.astype('float32')/255\n",
        "x_train.shape"
      ],
      "metadata": {
        "colab": {
          "base_uri": "https://localhost:8080/",
          "height": 0
        },
        "id": "NSHIdcaA_X3L",
        "outputId": "0cfd812e-c77e-4d95-dd3b-8a617d939ae6"
      },
      "execution_count": 81,
      "outputs": [
        {
          "output_type": "execute_result",
          "data": {
            "text/plain": [
              "(60000, 28, 28)"
            ]
          },
          "metadata": {},
          "execution_count": 81
        }
      ]
    },
    {
      "cell_type": "code",
      "source": [
        "y_train=to_categorical(y_train)\n",
        "y_test=to_categorical(y_test)"
      ],
      "metadata": {
        "id": "KRvZsPBYFDmY"
      },
      "execution_count": 74,
      "outputs": []
    },
    {
      "cell_type": "markdown",
      "source": [
        "importing and bulding pre-trained dataset"
      ],
      "metadata": {
        "id": "YoaOCaYUqz9g"
      }
    },
    {
      "cell_type": "code",
      "source": [
        "base_model=tf.keras.applications.MobileNetV2(input_shape=(224,224,3),include_top=False,weights='imagenet')"
      ],
      "metadata": {
        "id": "DkQmwWbxFSFv"
      },
      "execution_count": 75,
      "outputs": []
    },
    {
      "cell_type": "markdown",
      "source": [
        "building conv layers"
      ],
      "metadata": {
        "id": "pDCoc-gkq6wy"
      }
    },
    {
      "cell_type": "code",
      "source": [
        "model = models.Sequential()\n",
        "\n",
        "model.add(layers.Reshape((28, 28, 1), input_shape=(28*28,)))\n",
        "\n",
        "model.add(layers.Conv2D(32, (3, 3), activation='sigmoid', padding='same'))\n",
        "model.add(BatchNormalization())\n",
        "\n",
        "model.add(layers.MaxPooling2D((2, 2)))\n",
        "model.add(Flatten())\n",
        "model.add(Dropout(0.2))"
      ],
      "metadata": {
        "id": "YvULLfdfF7pS"
      },
      "execution_count": 83,
      "outputs": []
    },
    {
      "cell_type": "code",
      "source": [
        "constructing dense layer"
      ],
      "metadata": {
        "id": "LppSRYbmrBjr"
      },
      "execution_count": null,
      "outputs": []
    },
    {
      "cell_type": "code",
      "source": [
        "model.add(Dense(1024,activation='relu'))\n",
        "x=Dropout(0.2)\n",
        "model.add(Dense(512,activation='relu'))\n",
        "x=Dropout(0.2)\n",
        "model.add(Dense(256,activation='relu'))\n",
        "x=Dropout(0.2)\n",
        "model.add(Dense(10,activation='softmax'))"
      ],
      "metadata": {
        "id": "Y1pGpkKWM3wT"
      },
      "execution_count": 84,
      "outputs": []
    },
    {
      "cell_type": "markdown",
      "source": [
        "it dont disturb the values of pre trained layers and not update"
      ],
      "metadata": {
        "id": "IgkKxX45rFxy"
      }
    },
    {
      "cell_type": "code",
      "source": [
        "for layer in base_model.layers:\n",
        "  layer.trainable=False"
      ],
      "metadata": {
        "id": "_-8nr7bIPxki"
      },
      "execution_count": 85,
      "outputs": []
    },
    {
      "cell_type": "code",
      "source": [
        "model.compile(optimizer='adam',loss='categorical_crossentropy',metrics=['accuracy','precision'])"
      ],
      "metadata": {
        "id": "dwPyUUXSRKtN"
      },
      "execution_count": 86,
      "outputs": []
    },
    {
      "cell_type": "code",
      "source": [
        "epochs=10\n",
        "batch_size=128\n",
        "train_dataset=tf.data.Dataset.from_tensor_slices((x_train,y_train)).shuffle(60000).batch(batch_size)\n",
        "val_dataset=tf.data.Dataset.from_tensor_slices((x_test,y_test)).batch(batch_size)\n"
      ],
      "metadata": {
        "id": "WZOVrm2lSCss"
      },
      "execution_count": 87,
      "outputs": []
    },
    {
      "cell_type": "markdown",
      "source": [
        "making compilation in a proper way"
      ],
      "metadata": {
        "id": "JUkywvNvr7Gj"
      }
    },
    {
      "cell_type": "code",
      "source": [
        "!pip install matplotlib\n",
        "\n",
        "import matplotlib.pyplot as plt\n",
        "import tensorflow as tf\n",
        "\n",
        "epochs = 10\n",
        "batch_size = 128\n",
        "train_dataset = tf.data.Dataset.from_tensor_slices((x_train, y_train)).shuffle(60000).batch(batch_size)\n",
        "val_dataset = tf.data.Dataset.from_tensor_slices((x_test, y_test)).batch(batch_size)\n",
        "\n",
        "accuracy_history = []\n",
        "val_accuracy_history = []\n",
        "\n",
        "for epoch in range(epochs):\n",
        "  print(f\"Epoch {epoch + 1}/{epochs}\")\n",
        "  for images, labels in train_dataset:\n",
        "    with tf.GradientTape() as tape:\n",
        "      images = tf.reshape(images, [-1, 784])\n",
        "      predictions = model(images)\n",
        "      loss = tf.keras.losses.categorical_crossentropy(labels, predictions)\n",
        "      gradients = tape.gradient(loss, model.trainable_variables)\n",
        "      optimizer = tf.keras.optimizers.Adam(learning_rate=0.001)\n",
        "      optimizer.apply_gradients(zip(gradients, model.trainable_variables))\n",
        "\n",
        "  # Calculate and store training accuracy for this epoch\n",
        "  accuracy = tf.metrics.CategoricalAccuracy()\n",
        "  for images, labels in train_dataset:\n",
        "    images = tf.reshape(images, [-1, 784])\n",
        "    predictions = model(images)\n",
        "    accuracy.update_state(labels, predictions)\n",
        "  train_acc = accuracy.result().numpy()\n",
        "  accuracy_history.append(train_acc)\n",
        "\n",
        "  # Calculate and store validation accuracy for this epoch\n",
        "  accuracy = tf.metrics.CategoricalAccuracy()\n",
        "  for images, labels in val_dataset:\n",
        "    images = tf.reshape(images, [-1, 784])\n",
        "    predictions = model(images)\n",
        "    accuracy.update_state(labels, predictions)\n",
        "  val_acc = accuracy.result().numpy()\n",
        "  val_accuracy_history.append(val_acc)\n",
        "\n",
        "  print(f\"Training Accuracy: {train_acc}\")\n",
        "  print(f\"Validation Accuracy: {val_acc}\")\n",
        "\n",
        "# Plot the accuracy and validation accuracy\n",
        "plt.plot(accuracy_history, label='acc', color='red')\n",
        "plt.plot(val_accuracy_history, label='val_acc', color='blue')\n",
        "plt.legend()\n",
        "plt.show()"
      ],
      "metadata": {
        "colab": {
          "base_uri": "https://localhost:8080/",
          "height": 1141
        },
        "id": "8V9EyQE8ULB5",
        "outputId": "787a572d-58b8-4a31-ceaf-3256fe87ab38"
      },
      "execution_count": 104,
      "outputs": [
        {
          "output_type": "stream",
          "name": "stdout",
          "text": [
            "Requirement already satisfied: matplotlib in /usr/local/lib/python3.10/dist-packages (3.7.1)\n",
            "Requirement already satisfied: contourpy>=1.0.1 in /usr/local/lib/python3.10/dist-packages (from matplotlib) (1.3.0)\n",
            "Requirement already satisfied: cycler>=0.10 in /usr/local/lib/python3.10/dist-packages (from matplotlib) (0.12.1)\n",
            "Requirement already satisfied: fonttools>=4.22.0 in /usr/local/lib/python3.10/dist-packages (from matplotlib) (4.53.1)\n",
            "Requirement already satisfied: kiwisolver>=1.0.1 in /usr/local/lib/python3.10/dist-packages (from matplotlib) (1.4.5)\n",
            "Requirement already satisfied: numpy>=1.20 in /usr/local/lib/python3.10/dist-packages (from matplotlib) (1.26.4)\n",
            "Requirement already satisfied: packaging>=20.0 in /usr/local/lib/python3.10/dist-packages (from matplotlib) (24.1)\n",
            "Requirement already satisfied: pillow>=6.2.0 in /usr/local/lib/python3.10/dist-packages (from matplotlib) (9.4.0)\n",
            "Requirement already satisfied: pyparsing>=2.3.1 in /usr/local/lib/python3.10/dist-packages (from matplotlib) (3.1.4)\n",
            "Requirement already satisfied: python-dateutil>=2.7 in /usr/local/lib/python3.10/dist-packages (from matplotlib) (2.8.2)\n",
            "Requirement already satisfied: six>=1.5 in /usr/local/lib/python3.10/dist-packages (from python-dateutil>=2.7->matplotlib) (1.16.0)\n",
            "Epoch 1/10\n",
            "Training Accuracy: 0.11236666887998581\n",
            "Validation Accuracy: 0.11349999904632568\n",
            "Epoch 2/10\n",
            "Training Accuracy: 0.11236666887998581\n",
            "Validation Accuracy: 0.11349999904632568\n",
            "Epoch 3/10\n",
            "Training Accuracy: 0.11236666887998581\n",
            "Validation Accuracy: 0.11349999904632568\n",
            "Epoch 4/10\n",
            "Training Accuracy: 0.11236666887998581\n",
            "Validation Accuracy: 0.11349999904632568\n",
            "Epoch 5/10\n",
            "Training Accuracy: 0.11236666887998581\n",
            "Validation Accuracy: 0.11349999904632568\n",
            "Epoch 6/10\n",
            "Training Accuracy: 0.11236666887998581\n",
            "Validation Accuracy: 0.11349999904632568\n",
            "Epoch 7/10\n",
            "Training Accuracy: 0.11236666887998581\n",
            "Validation Accuracy: 0.11349999904632568\n",
            "Epoch 8/10\n",
            "Training Accuracy: 0.11236666887998581\n",
            "Validation Accuracy: 0.11349999904632568\n",
            "Epoch 9/10\n",
            "Training Accuracy: 0.11236666887998581\n",
            "Validation Accuracy: 0.11349999904632568\n",
            "Epoch 10/10\n",
            "Training Accuracy: 0.11236666887998581\n",
            "Validation Accuracy: 0.11349999904632568\n"
          ]
        },
        {
          "output_type": "display_data",
          "data": {
            "text/plain": [
              "<Figure size 640x480 with 1 Axes>"
            ],
            "image/png": "[encoded data removed]"
          },
          "metadata": {}
        }
      ]
    },
    {
      "cell_type": "code",
      "source": [
        "epochs=5\n",
        "batch_size=256\n",
        "train_dataset=tf.data.Dataset.from_tensor_slices((x_train,y_train)).shuffle(60000).batch(batch_size)\n",
        "test_datset=tf.data.Dataset.from_tensor_slices((x_test,y_test)).batch(batch_size)\n",
        "for epoch in range(epochs):\n",
        "  print(f\"{epoch+1}/{epochs}\")\n",
        "  for images, label in train_dataset:\n",
        "    with tf.GradientTape() as tape:\n",
        "      images=tf.reshape(images,[-1,28*28])\n",
        "      predictions=model(images)\n",
        "      loss=tf.keras.losses.categorical_crossentropy(labels,pridiction)\n",
        "      gradients=tape.gradient(loss,model.trainable_variables)\n",
        "      optimizer=tf.keras.optimizers,Adam(learning_rate=0.002)\n",
        "      optimizer.apply_gradients(zip(gradient,model.trainable_variables))\n",
        "\n",
        "      accuracy = tf.metrics.CategoricalAccuracy()\n",
        "      for images, labels in val_dataset:\n",
        "        images = tf.reshape(images,[-1,28*28])\n",
        "        predictions = model(images)\n",
        "        accuracy.update_state(labels,prediction)\n",
        "        val_acc=accuracy.result().numpy()\n",
        "        print(f\"Validation Accuracy: {val_acc}\")\n",
        "\n"
      ],
      "metadata": {
        "id": "BefbkHWJZSZB"
      },
      "execution_count": 95,
      "outputs": []
    }
  ]
}